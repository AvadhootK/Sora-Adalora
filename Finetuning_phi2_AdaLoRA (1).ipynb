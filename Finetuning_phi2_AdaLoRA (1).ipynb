{
  "nbformat": 4,
  "nbformat_minor": 0,
  "metadata": {
    "colab": {
      "provenance": [],
      "gpuType": "T4"
    },
    "kernelspec": {
      "name": "python3",
      "display_name": "Python 3"
    },
    "language_info": {
      "name": "python"
    },
    "accelerator": "GPU",
    "widgets": {
      "application/vnd.jupyter.widget-state+json": {
        "93c79cc4ec9c49d1ad2d1886c4d7498e": {
          "model_module": "@jupyter-widgets/controls",
          "model_name": "HBoxModel",
          "model_module_version": "1.5.0",
          "state": {
            "_dom_classes": [],
            "_model_module": "@jupyter-widgets/controls",
            "_model_module_version": "1.5.0",
            "_model_name": "HBoxModel",
            "_view_count": null,
            "_view_module": "@jupyter-widgets/controls",
            "_view_module_version": "1.5.0",
            "_view_name": "HBoxView",
            "box_style": "",
            "children": [
              "IPY_MODEL_f175242929ae49f7ba337bdaaf018140",
              "IPY_MODEL_ac43644ff25245d2a8e61196f57ea2bc",
              "IPY_MODEL_db55b16180164738b90f61d505b4871d"
            ],
            "layout": "IPY_MODEL_e655d2d2461147028d7497468f90e1d8"
          }
        },
        "f175242929ae49f7ba337bdaaf018140": {
          "model_module": "@jupyter-widgets/controls",
          "model_name": "HTMLModel",
          "model_module_version": "1.5.0",
          "state": {
            "_dom_classes": [],
            "_model_module": "@jupyter-widgets/controls",
            "_model_module_version": "1.5.0",
            "_model_name": "HTMLModel",
            "_view_count": null,
            "_view_module": "@jupyter-widgets/controls",
            "_view_module_version": "1.5.0",
            "_view_name": "HTMLView",
            "description": "",
            "description_tooltip": null,
            "layout": "IPY_MODEL_ce4267de85f14dd1847fc5718f390cbc",
            "placeholder": "​",
            "style": "IPY_MODEL_9c2d24b563034f968e66a54fb906dc07",
            "value": "Loading checkpoint shards: 100%"
          }
        },
        "ac43644ff25245d2a8e61196f57ea2bc": {
          "model_module": "@jupyter-widgets/controls",
          "model_name": "FloatProgressModel",
          "model_module_version": "1.5.0",
          "state": {
            "_dom_classes": [],
            "_model_module": "@jupyter-widgets/controls",
            "_model_module_version": "1.5.0",
            "_model_name": "FloatProgressModel",
            "_view_count": null,
            "_view_module": "@jupyter-widgets/controls",
            "_view_module_version": "1.5.0",
            "_view_name": "ProgressView",
            "bar_style": "success",
            "description": "",
            "description_tooltip": null,
            "layout": "IPY_MODEL_a6fc074bff3e4378b4a2b23945c89b14",
            "max": 2,
            "min": 0,
            "orientation": "horizontal",
            "style": "IPY_MODEL_881932559fdb4e4fb5b1ba050569b1d1",
            "value": 2
          }
        },
        "db55b16180164738b90f61d505b4871d": {
          "model_module": "@jupyter-widgets/controls",
          "model_name": "HTMLModel",
          "model_module_version": "1.5.0",
          "state": {
            "_dom_classes": [],
            "_model_module": "@jupyter-widgets/controls",
            "_model_module_version": "1.5.0",
            "_model_name": "HTMLModel",
            "_view_count": null,
            "_view_module": "@jupyter-widgets/controls",
            "_view_module_version": "1.5.0",
            "_view_name": "HTMLView",
            "description": "",
            "description_tooltip": null,
            "layout": "IPY_MODEL_52f61c1d36ed4fb9ace52b6dba5bfead",
            "placeholder": "​",
            "style": "IPY_MODEL_315bdab00fa5499c9826caa7402619b8",
            "value": " 2/2 [00:35&lt;00:00, 14.96s/it]"
          }
        },
        "e655d2d2461147028d7497468f90e1d8": {
          "model_module": "@jupyter-widgets/base",
          "model_name": "LayoutModel",
          "model_module_version": "1.2.0",
          "state": {
            "_model_module": "@jupyter-widgets/base",
            "_model_module_version": "1.2.0",
            "_model_name": "LayoutModel",
            "_view_count": null,
            "_view_module": "@jupyter-widgets/base",
            "_view_module_version": "1.2.0",
            "_view_name": "LayoutView",
            "align_content": null,
            "align_items": null,
            "align_self": null,
            "border": null,
            "bottom": null,
            "display": null,
            "flex": null,
            "flex_flow": null,
            "grid_area": null,
            "grid_auto_columns": null,
            "grid_auto_flow": null,
            "grid_auto_rows": null,
            "grid_column": null,
            "grid_gap": null,
            "grid_row": null,
            "grid_template_areas": null,
            "grid_template_columns": null,
            "grid_template_rows": null,
            "height": null,
            "justify_content": null,
            "justify_items": null,
            "left": null,
            "margin": null,
            "max_height": null,
            "max_width": null,
            "min_height": null,
            "min_width": null,
            "object_fit": null,
            "object_position": null,
            "order": null,
            "overflow": null,
            "overflow_x": null,
            "overflow_y": null,
            "padding": null,
            "right": null,
            "top": null,
            "visibility": null,
            "width": null
          }
        },
        "ce4267de85f14dd1847fc5718f390cbc": {
          "model_module": "@jupyter-widgets/base",
          "model_name": "LayoutModel",
          "model_module_version": "1.2.0",
          "state": {
            "_model_module": "@jupyter-widgets/base",
            "_model_module_version": "1.2.0",
            "_model_name": "LayoutModel",
            "_view_count": null,
            "_view_module": "@jupyter-widgets/base",
            "_view_module_version": "1.2.0",
            "_view_name": "LayoutView",
            "align_content": null,
            "align_items": null,
            "align_self": null,
            "border": null,
            "bottom": null,
            "display": null,
            "flex": null,
            "flex_flow": null,
            "grid_area": null,
            "grid_auto_columns": null,
            "grid_auto_flow": null,
            "grid_auto_rows": null,
            "grid_column": null,
            "grid_gap": null,
            "grid_row": null,
            "grid_template_areas": null,
            "grid_template_columns": null,
            "grid_template_rows": null,
            "height": null,
            "justify_content": null,
            "justify_items": null,
            "left": null,
            "margin": null,
            "max_height": null,
            "max_width": null,
            "min_height": null,
            "min_width": null,
            "object_fit": null,
            "object_position": null,
            "order": null,
            "overflow": null,
            "overflow_x": null,
            "overflow_y": null,
            "padding": null,
            "right": null,
            "top": null,
            "visibility": null,
            "width": null
          }
        },
        "9c2d24b563034f968e66a54fb906dc07": {
          "model_module": "@jupyter-widgets/controls",
          "model_name": "DescriptionStyleModel",
          "model_module_version": "1.5.0",
          "state": {
            "_model_module": "@jupyter-widgets/controls",
            "_model_module_version": "1.5.0",
            "_model_name": "DescriptionStyleModel",
            "_view_count": null,
            "_view_module": "@jupyter-widgets/base",
            "_view_module_version": "1.2.0",
            "_view_name": "StyleView",
            "description_width": ""
          }
        },
        "a6fc074bff3e4378b4a2b23945c89b14": {
          "model_module": "@jupyter-widgets/base",
          "model_name": "LayoutModel",
          "model_module_version": "1.2.0",
          "state": {
            "_model_module": "@jupyter-widgets/base",
            "_model_module_version": "1.2.0",
            "_model_name": "LayoutModel",
            "_view_count": null,
            "_view_module": "@jupyter-widgets/base",
            "_view_module_version": "1.2.0",
            "_view_name": "LayoutView",
            "align_content": null,
            "align_items": null,
            "align_self": null,
            "border": null,
            "bottom": null,
            "display": null,
            "flex": null,
            "flex_flow": null,
            "grid_area": null,
            "grid_auto_columns": null,
            "grid_auto_flow": null,
            "grid_auto_rows": null,
            "grid_column": null,
            "grid_gap": null,
            "grid_row": null,
            "grid_template_areas": null,
            "grid_template_columns": null,
            "grid_template_rows": null,
            "height": null,
            "justify_content": null,
            "justify_items": null,
            "left": null,
            "margin": null,
            "max_height": null,
            "max_width": null,
            "min_height": null,
            "min_width": null,
            "object_fit": null,
            "object_position": null,
            "order": null,
            "overflow": null,
            "overflow_x": null,
            "overflow_y": null,
            "padding": null,
            "right": null,
            "top": null,
            "visibility": null,
            "width": null
          }
        },
        "881932559fdb4e4fb5b1ba050569b1d1": {
          "model_module": "@jupyter-widgets/controls",
          "model_name": "ProgressStyleModel",
          "model_module_version": "1.5.0",
          "state": {
            "_model_module": "@jupyter-widgets/controls",
            "_model_module_version": "1.5.0",
            "_model_name": "ProgressStyleModel",
            "_view_count": null,
            "_view_module": "@jupyter-widgets/base",
            "_view_module_version": "1.2.0",
            "_view_name": "StyleView",
            "bar_color": null,
            "description_width": ""
          }
        },
        "52f61c1d36ed4fb9ace52b6dba5bfead": {
          "model_module": "@jupyter-widgets/base",
          "model_name": "LayoutModel",
          "model_module_version": "1.2.0",
          "state": {
            "_model_module": "@jupyter-widgets/base",
            "_model_module_version": "1.2.0",
            "_model_name": "LayoutModel",
            "_view_count": null,
            "_view_module": "@jupyter-widgets/base",
            "_view_module_version": "1.2.0",
            "_view_name": "LayoutView",
            "align_content": null,
            "align_items": null,
            "align_self": null,
            "border": null,
            "bottom": null,
            "display": null,
            "flex": null,
            "flex_flow": null,
            "grid_area": null,
            "grid_auto_columns": null,
            "grid_auto_flow": null,
            "grid_auto_rows": null,
            "grid_column": null,
            "grid_gap": null,
            "grid_row": null,
            "grid_template_areas": null,
            "grid_template_columns": null,
            "grid_template_rows": null,
            "height": null,
            "justify_content": null,
            "justify_items": null,
            "left": null,
            "margin": null,
            "max_height": null,
            "max_width": null,
            "min_height": null,
            "min_width": null,
            "object_fit": null,
            "object_position": null,
            "order": null,
            "overflow": null,
            "overflow_x": null,
            "overflow_y": null,
            "padding": null,
            "right": null,
            "top": null,
            "visibility": null,
            "width": null
          }
        },
        "315bdab00fa5499c9826caa7402619b8": {
          "model_module": "@jupyter-widgets/controls",
          "model_name": "DescriptionStyleModel",
          "model_module_version": "1.5.0",
          "state": {
            "_model_module": "@jupyter-widgets/controls",
            "_model_module_version": "1.5.0",
            "_model_name": "DescriptionStyleModel",
            "_view_count": null,
            "_view_module": "@jupyter-widgets/base",
            "_view_module_version": "1.2.0",
            "_view_name": "StyleView",
            "description_width": ""
          }
        },
        "d76cd5be36254ef2bd0e0e1a8cb761ea": {
          "model_module": "@jupyter-widgets/controls",
          "model_name": "HBoxModel",
          "model_module_version": "1.5.0",
          "state": {
            "_dom_classes": [],
            "_model_module": "@jupyter-widgets/controls",
            "_model_module_version": "1.5.0",
            "_model_name": "HBoxModel",
            "_view_count": null,
            "_view_module": "@jupyter-widgets/controls",
            "_view_module_version": "1.5.0",
            "_view_name": "HBoxView",
            "box_style": "",
            "children": [
              "IPY_MODEL_835c2a28c5e042ceb04c5c70d2022d55",
              "IPY_MODEL_fd880486e5e7413384de55641870606a",
              "IPY_MODEL_3851db5305634d8f991343526ee888bc"
            ],
            "layout": "IPY_MODEL_c2ccc3a2637642189cbdfe8b5b2ba680"
          }
        },
        "835c2a28c5e042ceb04c5c70d2022d55": {
          "model_module": "@jupyter-widgets/controls",
          "model_name": "HTMLModel",
          "model_module_version": "1.5.0",
          "state": {
            "_dom_classes": [],
            "_model_module": "@jupyter-widgets/controls",
            "_model_module_version": "1.5.0",
            "_model_name": "HTMLModel",
            "_view_count": null,
            "_view_module": "@jupyter-widgets/controls",
            "_view_module_version": "1.5.0",
            "_view_name": "HTMLView",
            "description": "",
            "description_tooltip": null,
            "layout": "IPY_MODEL_1397133668a241d3bf5379a6b8a43d7c",
            "placeholder": "​",
            "style": "IPY_MODEL_ea6e0da643944f25a675c56192106327",
            "value": "Map: 100%"
          }
        },
        "fd880486e5e7413384de55641870606a": {
          "model_module": "@jupyter-widgets/controls",
          "model_name": "FloatProgressModel",
          "model_module_version": "1.5.0",
          "state": {
            "_dom_classes": [],
            "_model_module": "@jupyter-widgets/controls",
            "_model_module_version": "1.5.0",
            "_model_name": "FloatProgressModel",
            "_view_count": null,
            "_view_module": "@jupyter-widgets/controls",
            "_view_module_version": "1.5.0",
            "_view_name": "ProgressView",
            "bar_style": "success",
            "description": "",
            "description_tooltip": null,
            "layout": "IPY_MODEL_0ca894ff535f481d85016b0020dbbe92",
            "max": 50,
            "min": 0,
            "orientation": "horizontal",
            "style": "IPY_MODEL_617be65e87be45e2a4708644e189eba1",
            "value": 50
          }
        },
        "3851db5305634d8f991343526ee888bc": {
          "model_module": "@jupyter-widgets/controls",
          "model_name": "HTMLModel",
          "model_module_version": "1.5.0",
          "state": {
            "_dom_classes": [],
            "_model_module": "@jupyter-widgets/controls",
            "_model_module_version": "1.5.0",
            "_model_name": "HTMLModel",
            "_view_count": null,
            "_view_module": "@jupyter-widgets/controls",
            "_view_module_version": "1.5.0",
            "_view_name": "HTMLView",
            "description": "",
            "description_tooltip": null,
            "layout": "IPY_MODEL_1e96081b0bd14d2eaab25bed9f704fb6",
            "placeholder": "​",
            "style": "IPY_MODEL_cba9913afb4b4eacb2092136510115ef",
            "value": " 50/50 [00:00&lt;00:00, 181.57 examples/s]"
          }
        },
        "c2ccc3a2637642189cbdfe8b5b2ba680": {
          "model_module": "@jupyter-widgets/base",
          "model_name": "LayoutModel",
          "model_module_version": "1.2.0",
          "state": {
            "_model_module": "@jupyter-widgets/base",
            "_model_module_version": "1.2.0",
            "_model_name": "LayoutModel",
            "_view_count": null,
            "_view_module": "@jupyter-widgets/base",
            "_view_module_version": "1.2.0",
            "_view_name": "LayoutView",
            "align_content": null,
            "align_items": null,
            "align_self": null,
            "border": null,
            "bottom": null,
            "display": null,
            "flex": null,
            "flex_flow": null,
            "grid_area": null,
            "grid_auto_columns": null,
            "grid_auto_flow": null,
            "grid_auto_rows": null,
            "grid_column": null,
            "grid_gap": null,
            "grid_row": null,
            "grid_template_areas": null,
            "grid_template_columns": null,
            "grid_template_rows": null,
            "height": null,
            "justify_content": null,
            "justify_items": null,
            "left": null,
            "margin": null,
            "max_height": null,
            "max_width": null,
            "min_height": null,
            "min_width": null,
            "object_fit": null,
            "object_position": null,
            "order": null,
            "overflow": null,
            "overflow_x": null,
            "overflow_y": null,
            "padding": null,
            "right": null,
            "top": null,
            "visibility": null,
            "width": null
          }
        },
        "1397133668a241d3bf5379a6b8a43d7c": {
          "model_module": "@jupyter-widgets/base",
          "model_name": "LayoutModel",
          "model_module_version": "1.2.0",
          "state": {
            "_model_module": "@jupyter-widgets/base",
            "_model_module_version": "1.2.0",
            "_model_name": "LayoutModel",
            "_view_count": null,
            "_view_module": "@jupyter-widgets/base",
            "_view_module_version": "1.2.0",
            "_view_name": "LayoutView",
            "align_content": null,
            "align_items": null,
            "align_self": null,
            "border": null,
            "bottom": null,
            "display": null,
            "flex": null,
            "flex_flow": null,
            "grid_area": null,
            "grid_auto_columns": null,
            "grid_auto_flow": null,
            "grid_auto_rows": null,
            "grid_column": null,
            "grid_gap": null,
            "grid_row": null,
            "grid_template_areas": null,
            "grid_template_columns": null,
            "grid_template_rows": null,
            "height": null,
            "justify_content": null,
            "justify_items": null,
            "left": null,
            "margin": null,
            "max_height": null,
            "max_width": null,
            "min_height": null,
            "min_width": null,
            "object_fit": null,
            "object_position": null,
            "order": null,
            "overflow": null,
            "overflow_x": null,
            "overflow_y": null,
            "padding": null,
            "right": null,
            "top": null,
            "visibility": null,
            "width": null
          }
        },
        "ea6e0da643944f25a675c56192106327": {
          "model_module": "@jupyter-widgets/controls",
          "model_name": "DescriptionStyleModel",
          "model_module_version": "1.5.0",
          "state": {
            "_model_module": "@jupyter-widgets/controls",
            "_model_module_version": "1.5.0",
            "_model_name": "DescriptionStyleModel",
            "_view_count": null,
            "_view_module": "@jupyter-widgets/base",
            "_view_module_version": "1.2.0",
            "_view_name": "StyleView",
            "description_width": ""
          }
        },
        "0ca894ff535f481d85016b0020dbbe92": {
          "model_module": "@jupyter-widgets/base",
          "model_name": "LayoutModel",
          "model_module_version": "1.2.0",
          "state": {
            "_model_module": "@jupyter-widgets/base",
            "_model_module_version": "1.2.0",
            "_model_name": "LayoutModel",
            "_view_count": null,
            "_view_module": "@jupyter-widgets/base",
            "_view_module_version": "1.2.0",
            "_view_name": "LayoutView",
            "align_content": null,
            "align_items": null,
            "align_self": null,
            "border": null,
            "bottom": null,
            "display": null,
            "flex": null,
            "flex_flow": null,
            "grid_area": null,
            "grid_auto_columns": null,
            "grid_auto_flow": null,
            "grid_auto_rows": null,
            "grid_column": null,
            "grid_gap": null,
            "grid_row": null,
            "grid_template_areas": null,
            "grid_template_columns": null,
            "grid_template_rows": null,
            "height": null,
            "justify_content": null,
            "justify_items": null,
            "left": null,
            "margin": null,
            "max_height": null,
            "max_width": null,
            "min_height": null,
            "min_width": null,
            "object_fit": null,
            "object_position": null,
            "order": null,
            "overflow": null,
            "overflow_x": null,
            "overflow_y": null,
            "padding": null,
            "right": null,
            "top": null,
            "visibility": null,
            "width": null
          }
        },
        "617be65e87be45e2a4708644e189eba1": {
          "model_module": "@jupyter-widgets/controls",
          "model_name": "ProgressStyleModel",
          "model_module_version": "1.5.0",
          "state": {
            "_model_module": "@jupyter-widgets/controls",
            "_model_module_version": "1.5.0",
            "_model_name": "ProgressStyleModel",
            "_view_count": null,
            "_view_module": "@jupyter-widgets/base",
            "_view_module_version": "1.2.0",
            "_view_name": "StyleView",
            "bar_color": null,
            "description_width": ""
          }
        },
        "1e96081b0bd14d2eaab25bed9f704fb6": {
          "model_module": "@jupyter-widgets/base",
          "model_name": "LayoutModel",
          "model_module_version": "1.2.0",
          "state": {
            "_model_module": "@jupyter-widgets/base",
            "_model_module_version": "1.2.0",
            "_model_name": "LayoutModel",
            "_view_count": null,
            "_view_module": "@jupyter-widgets/base",
            "_view_module_version": "1.2.0",
            "_view_name": "LayoutView",
            "align_content": null,
            "align_items": null,
            "align_self": null,
            "border": null,
            "bottom": null,
            "display": null,
            "flex": null,
            "flex_flow": null,
            "grid_area": null,
            "grid_auto_columns": null,
            "grid_auto_flow": null,
            "grid_auto_rows": null,
            "grid_column": null,
            "grid_gap": null,
            "grid_row": null,
            "grid_template_areas": null,
            "grid_template_columns": null,
            "grid_template_rows": null,
            "height": null,
            "justify_content": null,
            "justify_items": null,
            "left": null,
            "margin": null,
            "max_height": null,
            "max_width": null,
            "min_height": null,
            "min_width": null,
            "object_fit": null,
            "object_position": null,
            "order": null,
            "overflow": null,
            "overflow_x": null,
            "overflow_y": null,
            "padding": null,
            "right": null,
            "top": null,
            "visibility": null,
            "width": null
          }
        },
        "cba9913afb4b4eacb2092136510115ef": {
          "model_module": "@jupyter-widgets/controls",
          "model_name": "DescriptionStyleModel",
          "model_module_version": "1.5.0",
          "state": {
            "_model_module": "@jupyter-widgets/controls",
            "_model_module_version": "1.5.0",
            "_model_name": "DescriptionStyleModel",
            "_view_count": null,
            "_view_module": "@jupyter-widgets/base",
            "_view_module_version": "1.2.0",
            "_view_name": "StyleView",
            "description_width": ""
          }
        }
      }
    }
  },
  "cells": [
    {
      "cell_type": "code",
      "execution_count": null,
      "metadata": {
        "id": "JzEpEL20cWkU"
      },
      "outputs": [],
      "source": [
        "!pip install -q -U torch\n",
        "!pip install -q -U peft datasets transformers trl einops"
      ]
    },
    {
      "cell_type": "code",
      "source": [
        "import os\n",
        "import torch\n",
        "from datasets import load_dataset\n",
        "from datasets import load_from_disk\n",
        "from peft import LoraConfig, AdaLoraModel, AdaLoraConfig\n",
        "from transformers import (\n",
        "    AutoModelForCausalLM,\n",
        "    AutoTokenizer,\n",
        "    HfArgumentParser,\n",
        "    AutoTokenizer,\n",
        "    TrainingArguments,\n",
        "    pipeline,\n",
        "    logging,\n",
        ")\n",
        "from tqdm import tqdm\n",
        "from trl import SFTTrainer"
      ],
      "metadata": {
        "id": "Guf1fw4Ncb-g"
      },
      "execution_count": null,
      "outputs": []
    },
    {
      "cell_type": "code",
      "source": [
        "# Model\n",
        "base_model = \"microsoft/phi-2\"\n",
        "new_model = \"phi-2-medquad\"\n",
        "\n",
        "# Dataset\n",
        "dataset = load_dataset(\"prsdm/MedQuad-phi2-1k\", split=\"train[:75]\")\n",
        "\n",
        "# Tokenizer\n",
        "tokenizer = AutoTokenizer.from_pretrained(base_model, use_fast=True)\n",
        "tokenizer.pad_token=tokenizer.eos_token\n",
        "tokenizer.padding_side=\"right\""
      ],
      "metadata": {
        "colab": {
          "base_uri": "https://localhost:8080/"
        },
        "id": "xbkdeXMEccBN",
        "outputId": "408ad01e-32da-40bb-ef87-c28f423bcdc0"
      },
      "execution_count": null,
      "outputs": [
        {
          "output_type": "stream",
          "name": "stderr",
          "text": [
            "/usr/local/lib/python3.10/dist-packages/huggingface_hub/utils/_token.py:89: UserWarning: \n",
            "The secret `HF_TOKEN` does not exist in your Colab secrets.\n",
            "To authenticate with the Hugging Face Hub, create a token in your settings tab (https://huggingface.co/settings/tokens), set it as secret in your Google Colab and restart your session.\n",
            "You will be able to reuse this secret in all of your notebooks.\n",
            "Please note that authentication is recommended but still optional to access public models or datasets.\n",
            "  warnings.warn(\n",
            "Special tokens have been added in the vocabulary, make sure the associated word embeddings are fine-tuned or trained.\n"
          ]
        }
      ]
    },
    {
      "cell_type": "code",
      "source": [
        "model = AutoModelForCausalLM.from_pretrained(\n",
        "    base_model,\n",
        "    device_map={\"\": 0},\n",
        ")"
      ],
      "metadata": {
        "colab": {
          "base_uri": "https://localhost:8080/",
          "height": 49,
          "referenced_widgets": [
            "93c79cc4ec9c49d1ad2d1886c4d7498e",
            "f175242929ae49f7ba337bdaaf018140",
            "ac43644ff25245d2a8e61196f57ea2bc",
            "db55b16180164738b90f61d505b4871d",
            "e655d2d2461147028d7497468f90e1d8",
            "ce4267de85f14dd1847fc5718f390cbc",
            "9c2d24b563034f968e66a54fb906dc07",
            "a6fc074bff3e4378b4a2b23945c89b14",
            "881932559fdb4e4fb5b1ba050569b1d1",
            "52f61c1d36ed4fb9ace52b6dba5bfead",
            "315bdab00fa5499c9826caa7402619b8"
          ]
        },
        "id": "GOO9wPSa6Koc",
        "outputId": "41ed5b0f-2b21-4f6b-afb3-085fec904a80"
      },
      "execution_count": null,
      "outputs": [
        {
          "output_type": "display_data",
          "data": {
            "text/plain": [
              "Loading checkpoint shards:   0%|          | 0/2 [00:00<?, ?it/s]"
            ],
            "application/vnd.jupyter.widget-view+json": {
              "version_major": 2,
              "version_minor": 0,
              "model_id": "93c79cc4ec9c49d1ad2d1886c4d7498e"
            }
          },
          "metadata": {}
        }
      ]
    },
    {
      "cell_type": "code",
      "source": [
        "train_dataset = dataset.select(range(50))\n",
        "test_dataset = dataset.select(range(51,75))"
      ],
      "metadata": {
        "id": "9QP4mtT-ccDr"
      },
      "execution_count": null,
      "outputs": []
    },
    {
      "cell_type": "code",
      "source": [
        "def find_target_modules(model):\n",
        "    unique_layers = set()\n",
        "\n",
        "    for name, module in model.named_modules():\n",
        "        if \"Linear\" in str(type(module)):\n",
        "            layer_type = name.split('.')[-1]\n",
        "            unique_layers.add(layer_type)\n",
        "    return list(unique_layers)"
      ],
      "metadata": {
        "id": "hkQxMdSx3prw"
      },
      "execution_count": null,
      "outputs": []
    },
    {
      "cell_type": "code",
      "source": [
        "find_target_modules(model)"
      ],
      "metadata": {
        "colab": {
          "base_uri": "https://localhost:8080/"
        },
        "id": "YL0fVZ0p3uq5",
        "outputId": "061856de-0393-4ff6-805e-cbc6c924a951"
      },
      "execution_count": null,
      "outputs": [
        {
          "output_type": "execute_result",
          "data": {
            "text/plain": [
              "['v_proj', 'fc2', 'fc1', 'k_proj', 'lm_head', 'dense', 'q_proj']"
            ]
          },
          "metadata": {},
          "execution_count": 7
        }
      ]
    },
    {
      "cell_type": "code",
      "source": [
        "# Set training arguments\n",
        "training_arguments = TrainingArguments(\n",
        "    output_dir = \"./results\",\n",
        "    report_to=\"none\",\n",
        "    num_train_epochs = 1,\n",
        "    fp16 = False,\n",
        "    bf16 = False,\n",
        "    per_device_train_batch_size = 1,\n",
        "    per_device_eval_batch_size = 1,\n",
        "    gradient_accumulation_steps = 1,\n",
        "    gradient_checkpointing = True,\n",
        "    max_grad_norm = 0.3,\n",
        "    learning_rate = 2e-4,\n",
        "    weight_decay = 0.001,\n",
        "    optim = \"adamw_torch\",\n",
        "    lr_scheduler_type = \"cosine\",\n",
        "    max_steps = -1,\n",
        "    warmup_ratio = 0.03,\n",
        "    group_by_length = True,\n",
        "    save_steps = 0,\n",
        "    logging_steps = 50,\n",
        ")"
      ],
      "metadata": {
        "id": "aNq9NTFxccGl"
      },
      "execution_count": null,
      "outputs": []
    },
    {
      "cell_type": "code",
      "source": [
        "peft_config = AdaLoraConfig(\n",
        "  peft_type=\"ADALORA\",\n",
        "  # task_type=\"SEQ_2_SEQ_LM\",\n",
        "  r=8,\n",
        "  lora_alpha=32,\n",
        "  target_modules=['k_proj', 'fc1', 'fc2', 'q_proj', 'v_proj'],\n",
        "  lora_dropout=0.01,\n",
        ")"
      ],
      "metadata": {
        "id": "XegRrfXQccJF"
      },
      "execution_count": null,
      "outputs": []
    },
    {
      "cell_type": "code",
      "source": [
        "# Set supervised fine-tuning parameters\n",
        "trainer = SFTTrainer(\n",
        "    model=model,\n",
        "    train_dataset=train_dataset,\n",
        "    peft_config=peft_config,\n",
        "    dataset_text_field=\"text\",\n",
        "    max_seq_length= None,\n",
        "    tokenizer=tokenizer,\n",
        "    args=training_arguments,\n",
        ")"
      ],
      "metadata": {
        "colab": {
          "base_uri": "https://localhost:8080/",
          "height": 243,
          "referenced_widgets": [
            "d76cd5be36254ef2bd0e0e1a8cb761ea",
            "835c2a28c5e042ceb04c5c70d2022d55",
            "fd880486e5e7413384de55641870606a",
            "3851db5305634d8f991343526ee888bc",
            "c2ccc3a2637642189cbdfe8b5b2ba680",
            "1397133668a241d3bf5379a6b8a43d7c",
            "ea6e0da643944f25a675c56192106327",
            "0ca894ff535f481d85016b0020dbbe92",
            "617be65e87be45e2a4708644e189eba1",
            "1e96081b0bd14d2eaab25bed9f704fb6",
            "cba9913afb4b4eacb2092136510115ef"
          ]
        },
        "id": "4w_Ol88MccLo",
        "outputId": "a73908c3-2949-4c2f-b059-a0e059aee565"
      },
      "execution_count": null,
      "outputs": [
        {
          "output_type": "stream",
          "name": "stderr",
          "text": [
            "/usr/local/lib/python3.10/dist-packages/huggingface_hub/utils/_deprecation.py:100: FutureWarning: Deprecated argument(s) used in '__init__': dataset_text_field. Will not be supported from version '1.0.0'.\n",
            "\n",
            "Deprecated positional argument(s) used in SFTTrainer, please use the SFTConfig to set these arguments instead.\n",
            "  warnings.warn(message, FutureWarning)\n",
            "/usr/local/lib/python3.10/dist-packages/transformers/training_args.py:1961: FutureWarning: `--push_to_hub_token` is deprecated and will be removed in version 5 of 🤗 Transformers. Use `--hub_token` instead.\n",
            "  warnings.warn(\n",
            "/usr/local/lib/python3.10/dist-packages/trl/trainer/sft_trainer.py:278: UserWarning: You didn't pass a `max_seq_length` argument to the SFTTrainer, this will default to 1024\n",
            "  warnings.warn(\n",
            "/usr/local/lib/python3.10/dist-packages/trl/trainer/sft_trainer.py:307: UserWarning: You passed a `dataset_text_field` argument to the SFTTrainer, the value you passed will override the one in the `SFTConfig`.\n",
            "  warnings.warn(\n"
          ]
        },
        {
          "output_type": "display_data",
          "data": {
            "text/plain": [
              "Map:   0%|          | 0/50 [00:00<?, ? examples/s]"
            ],
            "application/vnd.jupyter.widget-view+json": {
              "version_major": 2,
              "version_minor": 0,
              "model_id": "d76cd5be36254ef2bd0e0e1a8cb761ea"
            }
          },
          "metadata": {}
        }
      ]
    },
    {
      "cell_type": "code",
      "source": [
        "# Training the model and getting the training output\n",
        "train_output = trainer.train()"
      ],
      "metadata": {
        "colab": {
          "base_uri": "https://localhost:8080/",
          "height": 179
        },
        "id": "mURA4Wf9ccOQ",
        "outputId": "8386506a-f303-4001-c77b-b6b72d4900d7"
      },
      "execution_count": null,
      "outputs": [
        {
          "output_type": "stream",
          "name": "stderr",
          "text": [
            "`use_cache=True` is incompatible with gradient checkpointing. Setting `use_cache=False`...\n",
            "/usr/local/lib/python3.10/dist-packages/torch/utils/checkpoint.py:464: UserWarning: torch.utils.checkpoint: the use_reentrant parameter should be passed explicitly. In version 2.4 we will raise an exception if use_reentrant is not passed. use_reentrant=False is recommended, but if you need to preserve the current default behavior, you can pass use_reentrant=True. Refer to docs for more details on the differences between the two variants.\n",
            "  warnings.warn(\n"
          ]
        },
        {
          "output_type": "display_data",
          "data": {
            "text/plain": [
              "<IPython.core.display.HTML object>"
            ],
            "text/html": [
              "\n",
              "    <div>\n",
              "      \n",
              "      <progress value='50' max='50' style='width:300px; height:20px; vertical-align: middle;'></progress>\n",
              "      [50/50 09:33, Epoch 1/1]\n",
              "    </div>\n",
              "    <table border=\"1\" class=\"dataframe\">\n",
              "  <thead>\n",
              " <tr style=\"text-align: left;\">\n",
              "      <th>Step</th>\n",
              "      <th>Training Loss</th>\n",
              "    </tr>\n",
              "  </thead>\n",
              "  <tbody>\n",
              "    <tr>\n",
              "      <td>50</td>\n",
              "      <td>0.965500</td>\n",
              "    </tr>\n",
              "  </tbody>\n",
              "</table><p>"
            ]
          },
          "metadata": {}
        }
      ]
    },
    {
      "cell_type": "code",
      "source": [
        "train_output"
      ],
      "metadata": {
        "colab": {
          "base_uri": "https://localhost:8080/"
        },
        "id": "6dPsguXpccQg",
        "outputId": "3209fa67-0c87-4ad4-a7ad-859f5da1c6de"
      },
      "execution_count": null,
      "outputs": [
        {
          "output_type": "execute_result",
          "data": {
            "text/plain": [
              "TrainOutput(global_step=50, training_loss=0.9654789733886718, metrics={'train_runtime': 586.4646, 'train_samples_per_second': 0.085, 'train_steps_per_second': 0.085, 'total_flos': 1426771426935360.0, 'train_loss': 0.9654789733886718, 'epoch': 1.0})"
            ]
          },
          "metadata": {},
          "execution_count": 12
        }
      ]
    },
    {
      "cell_type": "code",
      "source": [
        "# inference\n",
        "\n",
        "for prompt in test_dataset.select(range(1)):\n",
        "  # Extract the instruction part\n",
        "  instruction = prompt[\"text\"].split('### Instruction: ')[1].split('### Assistant: ')[0]\n",
        "  print(instruction)"
      ],
      "metadata": {
        "colab": {
          "base_uri": "https://localhost:8080/"
        },
        "id": "W5mScPpz_7Q4",
        "outputId": "0be00aaa-4eea-41b6-c4cc-65965926db20"
      },
      "execution_count": null,
      "outputs": [
        {
          "output_type": "stream",
          "name": "stdout",
          "text": [
            "How to diagnose Cushing's Syndrome ? \n"
          ]
        }
      ]
    },
    {
      "cell_type": "code",
      "source": [
        "for prompt in test_dataset.select(range(1)):\n",
        "  print(prompt[\"text\"])"
      ],
      "metadata": {
        "colab": {
          "base_uri": "https://localhost:8080/"
        },
        "id": "QAUJRNTT_7TJ",
        "outputId": "a1f39274-6920-4614-abc9-3501b13268e4"
      },
      "execution_count": null,
      "outputs": [
        {
          "output_type": "stream",
          "name": "stdout",
          "text": [
            "### Instruction: How to diagnose Cushing's Syndrome ? ### Assistant: Diagnosis is based on a review of a person's medical history, a physical examination, and laboratory tests. X rays of the adrenal or pituitary glands can be useful in locating tumors.\n",
            "                \n",
            "Tests to Diagnose Cushing's Syndrome\n",
            "                \n",
            "No single lab test is perfect and usually several are needed. The three most common tests used to diagnose Cushing's syndrome are the 24-hour urinary free cortisol test, measurement of midnight plasma cortisol or late-night salivary cortisol, and the low-dose dexamethasone suppression test. Another test, the dexamethasone-corticotropin-releasing hormone test, may be needed to distinguish Cushing's syndrome from other causes of excess cortisol.\n",
            "                \n",
            "- 24-hour urinary free cortisol level. In this test, a person's urine is collected several times over a 24-hour period and tested for cortisol. Levels higher than 50 to 100 micrograms a day for an adult suggest Cushing's syndrome. The normal upper limit varies in different laboratories, depending on which measurement technique is used.  - Midnight plasma cortisol and late-night salivary cortisol measurements. The midnight plasma cortisol test measures cortisol concentrations in the blood. Cortisol production is normally suppressed at night, but in Cushing's syndrome, this suppression doesn't occur. If the cortisol level is more than 50 nanomoles per liter (nmol/L), Cushing's syndrome is suspected. The test generally requires a 48-hour hospital stay to avoid falsely elevated cortisol levels due to stress.   However, a late-night or bedtime saliva sample can be obtained at home, then tested to determine the cortisol level. Diagnostic ranges vary, depending on the measurement technique used.  - Low-dose dexamethasone suppression test (LDDST). In the LDDST, a person is given a low dose of dexamethasone, a synthetic glucocorticoid, by mouth every 6 hours for 2 days. Urine is collected before dexamethasone is administered and several times on each day of the test. A modified LDDST uses a onetime overnight dose.  Cortisol and other glucocorticoids signal the pituitary to release less ACTH, so the normal response after taking dexamethasone is a drop in blood and urine cortisol levels. If cortisol levels do not drop, Cushing's syndrome is suspected. The LDDST may not show a drop in cortisol levels in people with depression, alcoholism, high estrogen levels, acute illness, or stress, falsely indicating Cushing's syndrome. On the other hand, drugs such as phenytoin and phenobarbital may cause cortisol levels to drop, falsely indicating that Cushings is not present in people who actually have the syndrome. For this reason, physicians usually advise their patients to stop taking these drugs at least 1 week before the test.  - Dexamethasone-corticotropin-releasing hormone (CRH) test. Some people have high cortisol levels but do not develop the progressive effects of Cushing's syndrome, such as muscle weakness, fractures, and thinning of the skin. These people may have pseudo-Cushing's syndrome, a condition sometimes found in people who have depression or anxiety disorders, drink excess alcohol, have poorly controlled diabetes, or are severely obese. Pseudo-Cushings does not have the same long-term effects on health as Cushing's syndrome and does not require treatment directed at the endocrine glands.  The dexamethasone-CRH test rapidly distinguishes pseudo-Cushing's from mild cases of Cushing's. This test combines the LDDST and a CRH stimulation test. In the CRH stimulation test, an injection of CRH causes the pituitary to secrete ACTH. Pretreatment with dexamethasone prevents CRH from causing an increase in cortisol in people with pseudo-Cushing's. Elevations of cortisol during this test suggest Cushing's syndrome.\n",
            "                \n",
            "Tests to Find the Cause of Cushing's Syndrome\n",
            "                \n",
            "Once Cushing's syndrome has been diagnosed, other tests are used to find the exact location of the abnormality that leads to excess cortisol production. The choice of test depends, in part, on the preference of the endocrinologist or the center where the test is performed.\n",
            "                \n",
            "- CRH stimulation test. The CRH test, without pretreatment with dexamethasone, helps separate people with pituitary adenomas from those with ectopic ACTH syndrome or adrenal tumors. As a result of the CRH injection, people with pituitary adenomas usually experience a rise in blood levels of ACTH and cortisol because CRH acts directly on the pituitary. This response is rarely seen in people with ectopic ACTH syndrome and practically never in those with adrenal tumors.  - high-dose dexamethasone suppression test (HDDST). The HDDST is the same as the LDDST, except it uses higher doses of dexamethasone. This test helps separate people with excess production of ACTH due to pituitary adenomas from those with ectopic ACTH-producing tumors. High doses of dexamethasone usually suppress cortisol levels in people with pituitary adenomas but not in those with ectopic ACTH-producing tumors.  - Radiologic imaging: direct visualization of the endocrine glands. Imaging tests reveal the size and shape of the pituitary and adrenal glands and help determine if a tumor is present. The most common imaging tests are the computerized tomography (CT) scan and magnetic resonance imaging (MRI). A CT scan produces a series of x-ray pictures giving a cross-sectional image of a body part. MRI also produces images of internal organs but without exposing patients to ionizing radiation.  Imaging procedures are used to find a tumor after a diagnosis has been made. Imaging is not used to make the diagnosis of Cushing's syndrome because benign tumors are commonly found in the pituitary and adrenal glands. These tumors, sometimes called incidentalomas, do not produce hormones in quantities that are harmful. They are not removed unless blood tests show they are a cause of symptoms or they are unusually large. Conversely, pituitary tumors may not be detectable by imaging in almost half of people who ultimately need pituitary surgery for Cushing's syndrome.  - Petrosal sinus sampling. This test is not always required, but in many cases, it is the best way to distinguish pituitary from ectopic causes of Cushing's syndrome. Samples of blood are drawn from the petrosal sinuses-veins that drain the pituitary-by inserting tiny tubes through a vein in the upper thigh or groin region. A local anesthetic and mild sedation are given, and x rays are taken to confirm the correct position of the tubes. Often CRH, the hormone that causes the pituitary to release ACTH, is given during this test to improve diagnostic accuracy.  Levels of ACTH in the petrosal sinuses are measured and compared with ACTH levels in a forearm vein. Higher levels of ACTH in the sinuses than in the forearm vein indicate a pituitary adenoma. Similar levels of ACTH in the petrosal sinuses and the forearm suggest ectopic ACTH syndrome.\n"
          ]
        }
      ]
    },
    {
      "cell_type": "code",
      "source": [
        "pipe = pipeline(task=\"text-generation\", model=model, tokenizer=tokenizer, max_new_tokens=256)\n",
        "\n",
        "# List to store results\n",
        "results = []\n",
        "\n",
        "# Iterating over the testing dataset and generating predictions\n",
        "for prompt in test_dataset.select(range(1)):\n",
        "    # Extract the instruction part\n",
        "    instruction = prompt[\"text\"].split('### Instruction: ')[1].split('### Assistant: ')[0]\n",
        "    result = pipe(f\"### Instruction: {instruction}\")\n",
        "    generated_text = result[0]['generated_text']\n",
        "    results.append({\n",
        "        \"prompt\": instruction,\n",
        "        \"generated_text\": generated_text\n",
        "    })\n",
        "\n",
        "# Printing the required result\n",
        "print(f\"{results[-1]['generated_text']}\")"
      ],
      "metadata": {
        "colab": {
          "base_uri": "https://localhost:8080/"
        },
        "id": "3Qf1ocjS_7Vb",
        "outputId": "09381051-a07a-47a0-e41c-9d85f2d785a8"
      },
      "execution_count": null,
      "outputs": [
        {
          "output_type": "stream",
          "name": "stderr",
          "text": [
            "/usr/local/lib/python3.10/dist-packages/torch/utils/checkpoint.py:464: UserWarning: torch.utils.checkpoint: the use_reentrant parameter should be passed explicitly. In version 2.4 we will raise an exception if use_reentrant is not passed. use_reentrant=False is recommended, but if you need to preserve the current default behavior, you can pass use_reentrant=True. Refer to docs for more details on the differences between the two variants.\n",
            "  warnings.warn(\n",
            "/usr/local/lib/python3.10/dist-packages/torch/utils/checkpoint.py:91: UserWarning: None of the inputs have requires_grad=True. Gradients will be None\n",
            "  warnings.warn(\n"
          ]
        },
        {
          "output_type": "stream",
          "name": "stdout",
          "text": [
            "### Instruction: How to diagnose Cushing's Syndrome ? \n",
            "\n",
            "To diagnose Cushing's Syndrome, doctors may perform a variety of tests, including:\n",
            "\n",
            "1. Blood tests: These tests can measure the levels of cortisol in the blood.\n",
            "\n",
            "2. Urine tests: These tests can measure the levels of cortisol in the urine.\n",
            "\n",
            "3. Imaging tests: These tests can show the size and shape of the adrenal glands.\n",
            "\n",
            "4. Biopsy: This test involves taking a small sample of the adrenal gland tissue to examine under a microscope.\n",
            "\n",
            "5. ACTH stimulation test: This test involves injecting a synthetic form of ACTH into the body and measuring the levels of cortisol in the blood.\n",
            "\n",
            "6. MRI: This test uses magnetic fields and radio waves to create detailed images of the adrenal glands.\n",
            "\n",
            "7. CT scan: This test uses X-rays and computer technology to create detailed images of the adrenal glands.\n",
            "\n",
            "8. Dexamethasone suppression test: This test involves taking a synthetic form of cortisol and measuring the levels of cortisol in the blood.\n",
            "\n",
            "9. 24-hour urine collection: This test involves collecting all urine produced over a 24-hour period to measure the levels of cortisol.\n",
            "\n",
            "10. Saliva cortisol test\n"
          ]
        }
      ]
    },
    {
      "cell_type": "code",
      "source": [],
      "metadata": {
        "id": "FTQ1EVLUDc4X"
      },
      "execution_count": null,
      "outputs": []
    }
  ]
}